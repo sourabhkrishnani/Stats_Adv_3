{
  "nbformat": 4,
  "nbformat_minor": 0,
  "metadata": {
    "colab": {
      "provenance": []
    },
    "kernelspec": {
      "name": "python3",
      "display_name": "Python 3"
    },
    "language_info": {
      "name": "python"
    }
  },
  "cells": [
    {
      "cell_type": "markdown",
      "source": [
        "### Q1"
      ],
      "metadata": {
        "id": "Q80BI4Y0cv6o"
      }
    },
    {
      "cell_type": "markdown",
      "source": [
        "Estimation statistics is a branch of statistics that deals with the process of estimating population parameters based on sample data. It involves making educated guesses or estimates about the true characteristics of a population using information from a subset of that population, which is the sample. Two common approaches to estimation in statistics are point estimation and interval estimation.\n",
        "\n",
        "# Point Estimate:\n",
        "\n",
        "# A point estimate is a single value that is used to approximate the true value of a population parameter. It provides a single best guess of the parameter's value based on the sample data.\n",
        "# Point estimates are often denoted by symbols such as \"x̄\" (pronounced as \"x-bar\") for the sample mean, \"p̂\" (pronounced as \"p-hat\") for the sample proportion, or \"s\" for the sample standard deviation.\n",
        "# For example, if you want to estimate the population mean income of a city, you might take a random sample of individuals and calculate the sample mean income as your point estimate of the population mean income.\n",
        "# Interval Estimate:\n",
        "\n",
        "# An interval estimate, on the other hand, provides a range of values within which the population parameter is likely to fall. It takes into account the uncertainty associated with estimating the parameter.\n",
        "# The most common form of interval estimate is the confidence interval. A confidence interval provides a lower and upper bound between which the parameter is estimated to lie with a specified level of confidence (e.g., 95% confidence interval).\n",
        "# For example, a 95% confidence interval for the population mean income might be stated as: \"We are 95% confident that the true population mean income falls within the range of $40,000 to $50,000.\""
      ],
      "metadata": {
        "id": "rzU72hidcv9N"
      }
    },
    {
      "cell_type": "markdown",
      "source": [
        "### Q2"
      ],
      "metadata": {
        "id": "4-fHDI_rcwA6"
      }
    },
    {
      "cell_type": "code",
      "execution_count": 1,
      "metadata": {
        "colab": {
          "base_uri": "https://localhost:8080/"
        },
        "id": "9j_tFwMIcu5K",
        "outputId": "825054df-1daf-485e-f00b-5c7d7a84421d"
      },
      "outputs": [
        {
          "output_type": "stream",
          "name": "stdout",
          "text": [
            "Estimated population mean: 50.00\n",
            "Confidence Interval: (48.04, 51.96)\n"
          ]
        }
      ],
      "source": [
        "import scipy.stats as stats\n",
        "\n",
        "def estimate_population_mean(sample_mean, sample_std, sample_size, confidence_level=0.95):\n",
        "    # Calculate the margin of error using the z-score for the desired confidence level\n",
        "    z_score = stats.norm.ppf(1 - (1 - confidence_level) / 2)\n",
        "    margin_of_error = z_score * (sample_std / (sample_size ** 0.5))\n",
        "\n",
        "    # Calculate the lower and upper bounds of the confidence interval\n",
        "    lower_bound = sample_mean - margin_of_error\n",
        "    upper_bound = sample_mean + margin_of_error\n",
        "\n",
        "    return lower_bound, upper_bound\n",
        "\n",
        "# Example usage:\n",
        "sample_mean = 50  # Sample mean\n",
        "sample_std = 10   # Sample standard deviation\n",
        "sample_size = 100 # Sample size\n",
        "confidence_level = 0.95  # 95% confidence level\n",
        "\n",
        "lower, upper = estimate_population_mean(sample_mean, sample_std, sample_size, confidence_level)\n",
        "print(f\"Estimated population mean: {sample_mean:.2f}\")\n",
        "print(f\"Confidence Interval: ({lower:.2f}, {upper:.2f})\")\n",
        "# print(f\"Margin of Error: {margin_of_error:.2f}\")"
      ]
    },
    {
      "cell_type": "markdown",
      "source": [
        "### Q3"
      ],
      "metadata": {
        "id": "Y5Y5suopcwYR"
      }
    },
    {
      "cell_type": "markdown",
      "source": [
        "Hypothesis testing is a fundamental concept in statistics that involves a formal procedure for making decisions or inferences about population parameters based on sample data. It is used to evaluate specific claims or hypotheses about these parameters. Hypothesis testing is a structured process that helps researchers and analysts draw conclusions, make informed decisions, and assess the validity of their beliefs regarding the population under study.\n",
        "\n",
        "# Here are the key components of hypothesis testing:\n",
        "\n",
        "# Null Hypothesis (H0): The null hypothesis is the default or status quo assumption that there is no effect, no difference, or no relationship in the population. It represents what you are trying to test or challenge.\n",
        "\n",
        "# Alternative Hypothesis (Ha): The alternative hypothesis is a statement that contradicts the null hypothesis. It represents what you are trying to establish or prove through your analysis. It often asserts the presence of an effect, difference, or relationship.\n",
        "\n",
        "# Test Statistic: A test statistic is a numerical value computed from the sample data. It quantifies the evidence against the null hypothesis. The choice of test statistic depends on the specific hypothesis test being conducted (e.g., t-statistic, z-statistic, chi-squared statistic).\n",
        "\n",
        "# Significance Level (α): The significance level, denoted as α, represents the probability of making a Type I error, which is the error of rejecting the null hypothesis when it is actually true. Common significance levels include 0.05 and 0.01.\n",
        "\n",
        "# P-Value: The p-value is the probability of obtaining a test statistic as extreme as, or more extreme than, the one observed in the sample, assuming that the null hypothesis is true. A small p-value (typically less than α) provides evidence against the null hypothesis.\n",
        "\n",
        "# Decision Rule: A decision rule is defined based on the significance level (α). It specifies whether to reject the null hypothesis if the p-value is less than or equal to α. If p ≤ α, you reject the null hypothesis; otherwise, you fail to reject it.\n",
        "\n",
        "# Conclusion: Based on the decision rule and the p-value, you either reject the null hypothesis or fail to reject it. This conclusion informs you about the statistical significance of your findings.\n",
        "\n",
        "# The importance of hypothesis testing:\n",
        "\n",
        "# Scientific Rigor: Hypothesis testing provides a structured and rigorous approach to assess the validity of hypotheses, making it an essential tool in scientific research.\n",
        "\n",
        "# Data-Driven Decision-Making: It allows for data-driven decision-making by providing a systematic way to evaluate evidence and draw conclusions based on observed data.\n",
        "\n",
        "# Inference: Hypothesis testing allows you to make inferences about a population based on a sample. This is crucial in cases where it is not feasible or practical to examine an entire population.\n",
        "\n",
        "# Quality Control: In fields like manufacturing and quality control, hypothesis testing is used to ensure product quality and process efficiency.\n",
        "\n",
        "# Policy and Business Decisions: In business and policy-making, hypothesis testing helps in evaluating the impact of strategies, interventions, or changes.\n",
        "\n",
        "# Statistical Significance: It helps determine whether observed effects or relationships are statistically significant, which aids in separating real effects from random variability.\n",
        "\n",
        "# Scientific Progress: Hypothesis testing contributes to the advancement of scientific knowledge by enabling researchers to test and refine theories and hypotheses."
      ],
      "metadata": {
        "id": "zuPn9K9bcwbm"
      }
    },
    {
      "cell_type": "markdown",
      "source": [
        "### Q4\n",
        "\n"
      ],
      "metadata": {
        "id": "te8Gkx-0eyLL"
      }
    },
    {
      "cell_type": "markdown",
      "source": [
        "Certainly, you can formulate a hypothesis to test whether the average weight of male college students is greater than the average weight of female college students. This is a common type of hypothesis testing where you compare the means of two different groups. The null and alternative hypotheses for this scenario could be as follows:\n",
        "\n",
        "# Null Hypothesis (H0): The average weight of male college students is equal to or less than the average weight of female college students.\n",
        "\n",
        "# Alternative Hypothesis (Ha): The average weight of male college students is greater than the average weight of female college students.\n",
        "\n",
        "# In mathematical notation:\n",
        "\n",
        "# H0: μ_male ≤ μ_female\n",
        "\n",
        "# Ha: μ_male > μ_female\n",
        "\n",
        "# Where:\n",
        "\n",
        "# H0 represents the null hypothesis.\n",
        "# Ha represents the alternative hypothesis.\n",
        "# μ_male represents the population mean weight of male college students.\n",
        "# μ_female represents the population mean weight of female college students.\n",
        "# To test this hypothesis, you would collect data on the weights of male and female college students and perform a statistical test (e.g., t-test or z-test) to determine if there is enough evidence to reject the null hypothesis in favor of the alternative hypothesis. The choice of test depends on the nature of your data and assumptions about the population distribution.\n",
        "\n",
        "# Remember that in hypothesis testing, you would also specify a significance level (α), which determines the threshold for statistical significance. If the p-value from the test is less than α, you would reject the null hypothesis and conclude that there is evidence to suggest that the average weight of male college students is greater than that of female college students.A"
      ],
      "metadata": {
        "id": "Z6v-7kVIeyYR"
      }
    },
    {
      "cell_type": "markdown",
      "source": [
        "### Q5"
      ],
      "metadata": {
        "id": "c8D5aDg9fA-E"
      }
    },
    {
      "cell_type": "code",
      "source": [
        "import scipy.stats as stats\n",
        "\n",
        "# Sample data from the two populations\n",
        "sample1 = [82, 75, 88, 91, 78, 93, 86, 79, 81, 84]\n",
        "sample2 = [68, 72, 65, 76, 71, 67, 75, 63, 70, 69]\n",
        "\n",
        "# Perform a two-sample t-test\n",
        "t_stat, p_value = stats.ttest_ind(sample1, sample2)\n",
        "\n",
        "# Define the significance level (alpha)\n",
        "alpha = 0.05\n",
        "\n",
        "# Compare the p-value to alpha to make a decision\n",
        "if p_value < alpha:\n",
        "    print(\"Reject the null hypothesis\")\n",
        "    print(\"There is enough evidence to suggest a significant difference between the two population means.\")\n",
        "else:\n",
        "    print(\"Fail to reject the null hypothesis\")\n",
        "    print(\"There is not enough evidence to suggest a significant difference between the two population means.\")\n",
        "\n",
        "# Print the t-statistic and p-value\n",
        "print(\"t-statistic:\", t_stat)\n",
        "print(\"p-value:\", p_value)"
      ],
      "metadata": {
        "colab": {
          "base_uri": "https://localhost:8080/"
        },
        "id": "IrwM5Xt2epIt",
        "outputId": "ce162f82-dc66-465b-9eb5-067c26f8aede"
      },
      "execution_count": 2,
      "outputs": [
        {
          "output_type": "stream",
          "name": "stdout",
          "text": [
            "Reject the null hypothesis\n",
            "There is enough evidence to suggest a significant difference between the two population means.\n",
            "t-statistic: 6.260657944421078\n",
            "p-value: 6.6375195653088275e-06\n"
          ]
        }
      ]
    },
    {
      "cell_type": "markdown",
      "source": [
        "### Q6"
      ],
      "metadata": {
        "id": "fbZxuKa8fBGl"
      }
    },
    {
      "cell_type": "markdown",
      "source": [
        "Null Hypothesis (H0): The null hypothesis is a statement that suggests there is no effect, no difference, or no relationship in the population. It is the default or status quo assumption that you are testing. The null hypothesis typically represents what you aim to challenge or investigate.\n",
        "\n",
        "# Alternative Hypothesis (Ha or H1): The alternative hypothesis is a statement that contradicts the null hypothesis. It asserts the presence of an effect, difference, or relationship in the population, which is what you are trying to establish or prove through your analysis.\n",
        "\n",
        "# Here are some examples of null and alternative hypotheses:\n",
        "\n",
        "# Example 1 - A Medical Trial:\n",
        "\n",
        "# Null Hypothesis (H0): The new drug has no effect on reducing blood pressure.\n",
        "# Alternative Hypothesis (Ha): The new drug reduces blood pressure in patients.\n",
        "# Example 2 - A Product Quality Test:\n",
        "\n",
        "# Null Hypothesis (H0): The mean product lifespan under current conditions is equal to or greater than 5 years.\n",
        "# Alternative Hypothesis (Ha): The mean product lifespan under current conditions is less than 5 years.\n",
        "# Example 3 - Gender and Salary:\n",
        "\n",
        "# Null Hypothesis (H0): There is no difference in average salary between male and female employees.\n",
        "# Alternative Hypothesis (Ha): There is a difference in average salary between male and female employees.\n",
        "# Example 4 - A/B Testing for Website Conversion Rate:\n",
        "\n",
        "# Null Hypothesis (H0): The new webpage design has no impact on the conversion rate.\n",
        "# Alternative Hypothesis (Ha): The new webpage design improves the conversion rate.\n",
        "# Example 5 - Education and Income:\n",
        "\n",
        "# Null Hypothesis (H0): There is no relationship between the level of education and income.\n",
        "# Alternative Hypothesis (Ha): There is a relationship between the level of education and income.\n",
        "# Example 6 - Climate Change Study:\n",
        "\n",
        "# Null Hypothesis (H0): The average global temperature is not increasing over time.\n",
        "# Alternative Hypothesis (Ha): The average global temperature is increasing over time."
      ],
      "metadata": {
        "id": "ImEZONoOfPqa"
      }
    },
    {
      "cell_type": "markdown",
      "source": [
        "### Q7"
      ],
      "metadata": {
        "id": "jgeDL1MRfSoN"
      }
    },
    {
      "cell_type": "markdown",
      "source": [
        "Hypothesis testing is a structured process in statistics that allows you to make informed decisions and draw conclusions about population parameters based on sample data. Here are the key steps involved in hypothesis testing:\n",
        "\n",
        "# Formulate Hypotheses:\n",
        "\n",
        "# Define the null hypothesis (H0) and the alternative hypothesis (Ha). The null hypothesis represents the default assumption (no effect, no difference), while the alternative hypothesis represents what you are trying to establish (an effect, a difference).\n",
        "# Collect Data:\n",
        "\n",
        "# Gather data through observations or experiments. Ensure that the data is a representative sample from the population of interest.\n",
        "# Select a Significance Level (α):\n",
        "\n",
        "# Choose a significance level, denoted by α, which determines the threshold for statistical significance. Common choices include 0.05 or 0.01. This represents the probability of making a Type I error (rejecting the null hypothesis when it's true).\n",
        "# Choose a Statistical Test:\n",
        "\n",
        "# Select an appropriate statistical test based on the type of data (e.g., t-test, chi-squared test, ANOVA) and the nature of the research question.\n",
        "# Calculate Test Statistic:\n",
        "\n",
        "# Compute the test statistic (e.g., t-statistic, z-statistic) from the sample data. The test statistic quantifies the evidence against the null hypothesis.\n",
        "# Determine the P-Value:\n",
        "\n",
        "# Calculate the p-value, which is the probability of obtaining a test statistic as extreme as, or more extreme than, the observed value, assuming the null hypothesis is true. A small p-value suggests strong evidence against the null hypothesis.\n",
        "# Compare P-Value to Significance Level:\n",
        "\n",
        "# Compare the p-value to the chosen significance level (α). If the p-value is less than or equal to α, you reject the null hypothesis. If the p-value is greater than α, you fail to reject the null hypothesis.\n",
        "# Draw a Conclusion:\n",
        "\n",
        "# Based on the comparison in step 7, draw a conclusion:\n",
        "# If you reject the null hypothesis, state that there is enough evidence to support the alternative hypothesis.\n",
        "# If you fail to reject the null hypothesis, conclude that there is not enough evidence to support the alternative hypothesis.\n",
        "# Report Findings:\n",
        "\n",
        "# Communicate the results of the hypothesis test, including the test statistic, p-value, conclusion, and any practical implications.\n",
        "# Make Inferences:\n",
        "\n",
        "# Use the conclusions drawn from the hypothesis test to make inferences about the population based on the sample data.\n",
        "# Consider Limitations:\n",
        "\n",
        "# Acknowledge any limitations or assumptions in the analysis, as well as the potential impact of Type II errors (failing to reject the null hypothesis when it's false).\n",
        "# Hypothesis testing is a critical tool for making data-driven decisions, testing research hypotheses, and drawing valid conclusions based on statistical evidence. Properly conducted hypothesis testing provides a framework for assessing the significance of observed results."
      ],
      "metadata": {
        "id": "WH3lj7jBfcQc"
      }
    },
    {
      "cell_type": "markdown",
      "source": [
        "### Q8"
      ],
      "metadata": {
        "id": "pHKgsNpnfisJ"
      }
    },
    {
      "cell_type": "markdown",
      "source": [
        "P-value (probability value) is a fundamental concept in hypothesis testing within statistics. It quantifies the strength of the evidence against the null hypothesis and helps determine whether the observed results in a sample are statistically significant. The p-value represents the probability of obtaining a test statistic as extreme as, or more extreme than, the one observed, assuming that the null hypothesis is true. Here's a more detailed explanation of the p-value and its significance in hypothesis testing:\n",
        "\n",
        "# Calculation of P-value:\n",
        "\n",
        "# After conducting a statistical test, such as a t-test or chi-squared test, you calculate a test statistic (e.g., t-statistic, z-statistic) based on the sample data.\n",
        "# The p-value is then determined by evaluating the probability of observing a test statistic as extreme as the one obtained, under the assumption that the null hypothesis is correct.\n",
        "# Significance Level (α):\n",
        "\n",
        "# Before conducting the hypothesis test, you choose a significance level (α), which is often set at 0.05 (5%) or 0.01 (1%). This represents the threshold for statistical significance.\n",
        "# The p-value is compared to this significance level to make a decision regarding the null hypothesis.\n",
        "# Interpretation of the P-value:\n",
        "\n",
        "# If the p-value is less than or equal to the chosen significance level (α), it is considered statistically significant. This means there is strong evidence against the null hypothesis.\n",
        "# If the p-value is greater than α, it is considered not statistically significant, and there is not enough evidence to reject the null hypothesis.\n",
        "# Significance in Hypothesis Testing:\n",
        "\n",
        "# The p-value plays a crucial role in hypothesis testing. It informs you whether the observed results in your sample are consistent with the null hypothesis or whether they deviate significantly from what would be expected under the null hypothesis.\n",
        "# A small p-value (typically less than α) suggests that the observed results are unlikely to have occurred by random chance alone, which leads to rejecting the null hypothesis in favor of the alternative hypothesis.\n",
        "# A large p-value implies that the observed results are reasonably consistent with the null hypothesis, and there is no strong evidence to reject it.\n",
        "# Practical Significance:\n",
        "\n",
        "# While a small p-value indicates statistical significance, it does not necessarily imply practical or real-world significance. It's essential to consider both statistical and practical significance when interpreting the results of a hypothesis test."
      ],
      "metadata": {
        "id": "c_PO5a1_fkPM"
      }
    },
    {
      "cell_type": "markdown",
      "source": [
        "### Q9"
      ],
      "metadata": {
        "id": "k1BCc4rxf1Y9"
      }
    },
    {
      "cell_type": "code",
      "source": [
        "import numpy as np\n",
        "import matplotlib.pyplot as plt\n",
        "from scipy.stats import t\n",
        "\n",
        "# Set the degrees of freedom\n",
        "df = 10\n",
        "\n",
        "# Generate x values for the t-distribution\n",
        "x = np.linspace(-5, 5, 1000)\n",
        "\n",
        "# Calculate the probability density function (PDF) for the t-distribution\n",
        "pdf = t.pdf(x, df)\n",
        "\n",
        "# Create the plot\n",
        "plt.plot(x, pdf, label=f't-distribution (df = {df})', color='blue')\n",
        "plt.xlabel('x')\n",
        "plt.ylabel('PDF')\n",
        "plt.title(\"Student's t-Distribution\")\n",
        "plt.legend()\n",
        "plt.grid(True)\n",
        "plt.show()"
      ],
      "metadata": {
        "colab": {
          "base_uri": "https://localhost:8080/",
          "height": 472
        },
        "id": "dooI9TFyfJEq",
        "outputId": "d62b51d2-d693-4cb7-ef22-09670557e301"
      },
      "execution_count": 3,
      "outputs": [
        {
          "output_type": "display_data",
          "data": {
            "text/plain": [
              "<Figure size 640x480 with 1 Axes>"
            ],
            "image/png": "[encoded data removed]"
          },
          "metadata": {}
        }
      ]
    },
    {
      "cell_type": "markdown",
      "source": [
        "### Q10"
      ],
      "metadata": {
        "id": "bI67ZWiffhXE"
      }
    },
    {
      "cell_type": "code",
      "source": [
        "import numpy as np\n",
        "import scipy.stats as stats\n",
        "\n",
        "# Generate two random samples of equal size\n",
        "sample_size = 30\n",
        "np.random.seed(0)  # For reproducibility\n",
        "sample1 = np.random.normal(loc=50, scale=10, size=sample_size)\n",
        "sample2 = np.random.normal(loc=55, scale=10, size=sample_size)\n",
        "\n",
        "# Perform a two-sample t-test assuming equal variances (null hypothesis: population means are equal)\n",
        "t_stat, p_value = stats.ttest_ind(sample1, sample2, equal_var=True)\n",
        "\n",
        "# Define the significance level (alpha)\n",
        "alpha = 0.05\n",
        "\n",
        "# Compare the p-value to alpha to make a decision\n",
        "if p_value < alpha:\n",
        "    print(\"Reject the null hypothesis\")\n",
        "    print(\"There is enough evidence to suggest that the population means are different.\")\n",
        "else:\n",
        "    print(\"Fail to reject the null hypothesis\")\n",
        "    print(\"There is not enough evidence to suggest that the population means are different.\")\n",
        "\n",
        "# Print the t-statistic and p-value\n",
        "print(\"t-statistic:\", t_stat)\n",
        "print(\"p-value:\", p_value)"
      ],
      "metadata": {
        "colab": {
          "base_uri": "https://localhost:8080/"
        },
        "id": "9YinHQBHtQjM",
        "outputId": "78376032-1eb2-4f4c-cbe9-8080aeede16b"
      },
      "execution_count": 4,
      "outputs": [
        {
          "output_type": "stream",
          "name": "stdout",
          "text": [
            "Fail to reject the null hypothesis\n",
            "There is not enough evidence to suggest that the population means are different.\n",
            "t-statistic: 0.8897019207505096\n",
            "p-value: 0.3773014533943507\n"
          ]
        }
      ]
    },
    {
      "cell_type": "markdown",
      "source": [
        "### Q11"
      ],
      "metadata": {
        "id": "-Q4eTTVitVhS"
      }
    },
    {
      "cell_type": "markdown",
      "source": [
        "The Student's t-distribution is a probability distribution used to estimate population parameters when the sample size is small, and the population standard deviation is unknown. It is similar to the standard normal distribution (bell-shaped and symmetric) but has heavier tails, meaning it is more prone to producing values that fall far from its mean.\n",
        "\n",
        "The t-distribution becomes similar to the normal distribution as the sample size increases.\n",
        "\n",
        "Formula:\n",
        "\n",
        "The t-distribution is defined as:\n",
        "\n",
        "𝑡\n",
        "=\n",
        "𝑥\n",
        "ˉ\n",
        "−\n",
        "𝜇\n",
        "𝑠\n",
        "𝑛\n",
        "t=\n",
        "n\n",
        "​\n",
        "\n",
        "s\n",
        "​\n",
        "\n",
        "x\n",
        "ˉ\n",
        " −μ\n",
        "​\n",
        "\n",
        "Where:\n",
        "\n",
        "𝑥\n",
        "ˉ\n",
        "x\n",
        "ˉ\n",
        "  = sample mean\n",
        "𝜇\n",
        "μ = population mean\n",
        "𝑠\n",
        "s = sample standard deviation\n",
        "𝑛\n",
        "n = sample size\n",
        "Degrees of Freedom (df):\n",
        "The shape of the t-distribution depends on the degrees of freedom (df):\n",
        "\n",
        "𝑑\n",
        "𝑓\n",
        "=\n",
        "𝑛\n",
        "−\n",
        "1\n",
        "df=n−1\n",
        "Smaller degrees of freedom result in a flatter and wider t-distribution. As\n",
        "𝑑\n",
        "𝑓\n",
        "df increases, the t-distribution approaches the normal distribution.\n",
        "\n",
        "#When to Use the t-Distribution\n",
        "The t-distribution is used when:\n",
        "\n",
        "The sample size is small (\n",
        "𝑛\n",
        "<\n",
        "30\n",
        "n<30).\n",
        "The population standard deviation (\n",
        "𝜎\n",
        "σ) is unknown, so the sample standard deviation (\n",
        "𝑠\n",
        "s) is used instead.\n",
        "The underlying population is approximately normally distributed. For larger sample sizes, the t-distribution is robust to violations of normality."
      ],
      "metadata": {
        "id": "DatABY7FtVk4"
      }
    },
    {
      "cell_type": "markdown",
      "source": [
        "### Q12"
      ],
      "metadata": {
        "id": "b0iYZfzHz2Ti"
      }
    },
    {
      "cell_type": "markdown",
      "source": [
        "The t-statistic (also known as Student's t-score or t-value)\n",
        "# is a statistical measure that quantifies the relationship between two population means,\n",
        "# and it serves to test hypotheses about the average of a sample from a normal distribution\n",
        "# in relation to its standard deviation.\n",
        "#\n",
        "# Formula for T-Statistic :\n",
        "# T = (Xbar - μ) / (SE/√n), where Xbar represents the mean of the sample, SE stands for\n",
        "# the standard error which is calculated by dividing the standard deviation of the sample\n",
        "# by the square root of n (the number of observations in the sample).\n",
        "#\n",
        "# In this formula, 'Xbar' denotes the sample mean, 'μ' denotes the population mean, 'SE'\n",
        "# denotes the standard error, and 'n' denotes the size of the sample.\n",
        "#\n",
        "# For example, if we have a sample with an observed mean of 50, a standard deviation of 7,\n",
        "# and a sample size of 30, then our t-statistic would be computed using the following formula:\n",
        "# T = (50 - 48)/(7/(sqrt(30))) = 2.667\n",
        "# This value indicates that there may be a significant difference between the sample mean\n",
        "# and the true population mean. However, without further information such as degrees of freedom,\n",
        "# one cannot definitively conclude whether this difference is statistically significant. A p-value\n",
        "# comparison against a critical value table can help determine significance level."
      ],
      "metadata": {
        "id": "mmqPxiM6z2YA"
      }
    },
    {
      "cell_type": "markdown",
      "source": [
        "### Q13"
      ],
      "metadata": {
        "id": "xs0bAjOL0JRf"
      }
    },
    {
      "cell_type": "code",
      "source": [
        "from scipy.stats import t\n",
        "import numpy as np\n",
        "\n",
        "def calculate_population_mean(sample_mean, std_dev, sample_size, confidence_level):\n",
        "    # Calculate the standard error of the mean\n",
        "    standard_error = std_dev / np.sqrt(sample_size)\n",
        "\n",
        "    # Calculate the critical value (t-statistic) for the confidence level\n",
        "    df = sample_size - 1  # degrees of freedom\n",
        "    t_statistic = t.ppf((1 + confidence_level) / 2, df)\n",
        "\n",
        "    # Calculate the confidence interval\n",
        "    lower_bound = sample_mean - t_statistic * standard_error\n",
        "    upper_bound = sample_mean + t_statistic * standard_error\n",
        "\n",
        "    return round(sample_mean, 2), round(lower_bound, 2), round(upper_bound, 2)\n",
        "\n",
        "# Generate data\n",
        "confidence_level = 0.95\n",
        "days = [i for i in range(50)]\n",
        "revenue = [np.random.normal(100, 15) for _ in range(len(days))]  # Example: Mean=100, StdDev=15\n",
        "\n",
        "# Calculate sample statistics\n",
        "sample_mean = np.mean(revenue)\n",
        "std_dev = np.std(revenue, ddof=1)  # Sample standard deviation\n",
        "sample_size = len(revenue)\n",
        "\n",
        "# Calculate the population mean and confidence interval\n",
        "estimated_population_mean, lower_bound, upper_bound = calculate_population_mean(\n",
        "    sample_mean, std_dev, sample_size, confidence_level\n",
        ")\n",
        "\n",
        "print(\"Estimated Population Mean: \", estimated_population_mean)\n",
        "print(\"Confidence Interval Lower Bound: \", lower_bound)\n",
        "print(\"Confidence Interval Upper Bound: \", upper_bound)\n"
      ],
      "metadata": {
        "colab": {
          "base_uri": "https://localhost:8080/"
        },
        "id": "M5d7Ozt_tSLZ",
        "outputId": "c709b29b-7fdf-428f-86c9-caaa3728d025"
      },
      "execution_count": 7,
      "outputs": [
        {
          "output_type": "stream",
          "name": "stdout",
          "text": [
            "Estimated Population Mean:  99.16\n",
            "Confidence Interval Lower Bound:  94.94\n",
            "Confidence Interval Upper Bound:  103.37\n"
          ]
        }
      ]
    },
    {
      "cell_type": "markdown",
      "source": [
        "### Q14"
      ],
      "metadata": {
        "id": "7KKLCgIV1QKC"
      }
    },
    {
      "cell_type": "code",
      "source": [
        "def test_hypothesis(n, xbar, sigma):\n",
        "    import scipy.stats as stats\n",
        "    # Null Hypothesis: H0: mu = 0\n",
        "    # Alternative Hypothesis: HA: mu != 0\n",
        "    # Calculate t statistic for given values\n",
        "    t_statistic = (xbar - 0) / (sigma/math.sqrt(n))\n",
        "    # Critical value from t-distribution table at alpha=0.05 and degrees of freedom = n-1\n",
        "    critical_value = stats.t.ppf(q=0.975, df=n-1)\n",
        "    if abs(t_statistic) > critical_value:\n",
        "        return \"Reject H0\"\n",
        "    else:\n",
        "        return \"Fail to Reject H0\"\n",
        "    print(test_hypothesis(100, 8, 3))\n",
        "    print(test_hypothesis(100, 8, 3))\n",
        "    print(\"The null hypothesis cannot be rejected.\")\n",
        "    print(test_hypothesis(100, 8, 3))"
      ],
      "metadata": {
        "id": "9jSsW1UE1SK5"
      },
      "execution_count": 8,
      "outputs": []
    },
    {
      "cell_type": "markdown",
      "source": [
        "### Q15"
      ],
      "metadata": {
        "id": "ceeOL9DQ1gD_"
      }
    },
    {
      "cell_type": "code",
      "source": [
        "from scipy.stats import t\n",
        "\n",
        "# Data\n",
        "mu_0 = 5  # Population mean\n",
        "x_bar = 4.8  # Sample mean\n",
        "s = 0.5  # Sample standard deviation\n",
        "n = 25  # Sample size\n",
        "alpha = 0.01  # Significance level\n",
        "\n",
        "# Calculate t-statistic\n",
        "t_statistic = (x_bar - mu_0) / (s / (n**0.5))\n",
        "\n",
        "# Degrees of freedom\n",
        "df = n - 1\n",
        "\n",
        "# Critical value (one-tailed)\n",
        "t_critical = t.ppf(alpha, df)\n",
        "\n",
        "# Output results\n",
        "print(f\"t-statistic: {t_statistic:.3f}\")\n",
        "print(f\"Critical value: {t_critical:.3f}\")\n",
        "\n",
        "# Decision\n",
        "if t_statistic < t_critical:\n",
        "    print(\"Reject the null hypothesis: The true mean weight is less than 5 pounds.\")\n",
        "else:\n",
        "    print(\"Fail to reject the null hypothesis: Not enough evidence to conclude the true mean is less than 5 pounds.\")\n"
      ],
      "metadata": {
        "colab": {
          "base_uri": "https://localhost:8080/"
        },
        "id": "Yrd2eus713hi",
        "outputId": "df6dbf83-451a-403c-ae64-cd4de61bc161"
      },
      "execution_count": 9,
      "outputs": [
        {
          "output_type": "stream",
          "name": "stdout",
          "text": [
            "t-statistic: -2.000\n",
            "Critical value: -2.492\n",
            "Fail to reject the null hypothesis: Not enough evidence to conclude the true mean is less than 5 pounds.\n"
          ]
        }
      ]
    },
    {
      "cell_type": "markdown",
      "source": [
        "### Q16"
      ],
      "metadata": {
        "id": "Vm3P2A121jt9"
      }
    },
    {
      "cell_type": "code",
      "source": [
        "from scipy.stats import t\n",
        "import math\n",
        "\n",
        "# Data for both groups\n",
        "x1 = 80  # Sample mean for group 1\n",
        "x2 = 75  # Sample mean for group 2\n",
        "s1 = 10  # Standard deviation for group 1\n",
        "s2 = 8   # Standard deviation for group 2\n",
        "n1 = 30  # Sample size for group 1\n",
        "n2 = 40  # Sample size for group 2\n",
        "alpha = 0.01  # Significance level\n",
        "\n",
        "# Calculate t-statistic\n",
        "t_statistic = (x1 - x2) / math.sqrt((s1**2 / n1) + (s2**2 / n2))\n",
        "\n",
        "# Degrees of freedom (using approximation for large samples)\n",
        "df = min(n1 - 1, n2 - 1)\n",
        "\n",
        "# Critical value for two-tailed test\n",
        "t_critical = t.ppf(1 - alpha / 2, df)\n",
        "\n",
        "# Output results\n",
        "print(f\"t-statistic: {t_statistic:.3f}\")\n",
        "print(f\"Critical value: {t_critical:.3f}\")\n",
        "\n",
        "# Decision\n",
        "if abs(t_statistic) > t_critical:\n",
        "    print(\"Reject the null hypothesis: The population means are not equal.\")\n",
        "else:\n",
        "    print(\"Fail to reject the null hypothesis: The population means are equal.\")\n"
      ],
      "metadata": {
        "colab": {
          "base_uri": "https://localhost:8080/"
        },
        "id": "TQEq8OTW2Gju",
        "outputId": "fce43183-7764-44de-eeec-f95e4273375c"
      },
      "execution_count": 10,
      "outputs": [
        {
          "output_type": "stream",
          "name": "stdout",
          "text": [
            "t-statistic: 2.251\n",
            "Critical value: 2.756\n",
            "Fail to reject the null hypothesis: The population means are equal.\n"
          ]
        }
      ]
    },
    {
      "cell_type": "markdown",
      "source": [
        "### Q17"
      ],
      "metadata": {
        "id": "w920CIu31jyr"
      }
    },
    {
      "cell_type": "code",
      "source": [
        "from scipy.stats import norm\n",
        "import math\n",
        "\n",
        "# Given data\n",
        "sample_mean = 4  # Sample mean\n",
        "std_dev = 1.5  # Sample standard deviation\n",
        "n = 50  # Sample size\n",
        "confidence_level = 0.99  # Confidence level\n",
        "\n",
        "# Find the Z-value for the given confidence level (two-tailed)\n",
        "z_value = norm.ppf(1 - (1 - confidence_level) / 2)\n",
        "\n",
        "# Calculate the standard error\n",
        "standard_error = std_dev / math.sqrt(n)\n",
        "\n",
        "# Calculate the margin of error\n",
        "margin_of_error = z_value * standard_error\n",
        "\n",
        "# Calculate the confidence interval\n",
        "lower_bound = sample_mean - margin_of_error\n",
        "upper_bound = sample_mean + margin_of_error\n",
        "\n",
        "print(f\"99% Confidence Interval: ({lower_bound:.3f}, {upper_bound:.3f})\")\n"
      ],
      "metadata": {
        "colab": {
          "base_uri": "https://localhost:8080/"
        },
        "id": "ScbLGF-R2SbS",
        "outputId": "be74668d-0921-4256-d4ea-b2a7d19c6940"
      },
      "execution_count": 11,
      "outputs": [
        {
          "output_type": "stream",
          "name": "stdout",
          "text": [
            "99% Confidence Interval: (3.454, 4.546)\n"
          ]
        }
      ]
    },
    {
      "cell_type": "code",
      "source": [],
      "metadata": {
        "id": "-GKj4Y2c2fHs"
      },
      "execution_count": null,
      "outputs": []
    }
  ]
}